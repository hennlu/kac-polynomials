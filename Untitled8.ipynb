{
 "cells": [
  {
   "cell_type": "code",
   "execution_count": 2,
   "metadata": {},
   "outputs": [],
   "source": [
    "R.<q>=PolynomialRing(QQ)"
   ]
  },
  {
   "cell_type": "code",
   "execution_count": 3,
   "metadata": {},
   "outputs": [],
   "source": [
    "K=FractionField(R)"
   ]
  },
  {
   "cell_type": "code",
   "execution_count": 4,
   "metadata": {},
   "outputs": [],
   "source": [
    "S.<x1,x2>=PowerSeriesRing(K)"
   ]
  },
  {
   "cell_type": "code",
   "execution_count": 5,
   "metadata": {},
   "outputs": [],
   "source": [
    "def produitbilin(l1,l2):\n",
    "    r=0\n",
    "    l1c=Partition(l1).conjugate()\n",
    "    l2c=Partition(l2).conjugate()\n",
    "    l=min(len(l2c),len(l1c))\n",
    "    for i in range(l):\n",
    "        r=r+l1c[i]*l2c[i]\n",
    "    return(r)"
   ]
  },
  {
   "cell_type": "code",
   "execution_count": 6,
   "metadata": {},
   "outputs": [],
   "source": [
    "def phi(r):\n",
    "    p=1\n",
    "    for i in range(1,r+1):\n",
    "        p=p*(1-q^(-i))\n",
    "    return(p)"
   ]
  },
  {
   "cell_type": "code",
   "execution_count": 7,
   "metadata": {},
   "outputs": [],
   "source": [
    "def b(l):\n",
    "    lc=Partition(l).conjugate()+[0]\n",
    "    r=1\n",
    "    for i in range(len(lc)-1):\n",
    "        r=r*phi(lc[i]-lc[i+1])\n",
    "    return(r)"
   ]
  },
  {
   "cell_type": "code",
   "execution_count": 8,
   "metadata": {},
   "outputs": [],
   "source": [
    "def polynomeP(d1,d2,r):\n",
    "    P=S(0)\n",
    "    for i in range(d1+1):\n",
    "        for j in range(d2+1):\n",
    "            for p1 in Partitions(i).list():\n",
    "                for p2 in Partitions(j).list():\n",
    "                    P=P+((q^(r*produitbilin(p1,p2)))/(q^(produitbilin(p1,p1)+produitbilin(p2,p2))*b(p1)*b(p2)))*(x1^i)*(x2^j)\n",
    "    return(P)"
   ]
  },
  {
   "cell_type": "code",
   "execution_count": 9,
   "metadata": {},
   "outputs": [],
   "source": [
    "def serieH(d1,d2,N,r):\n",
    "    s=0\n",
    "    p=polynomeP(d1,d2,r)\n",
    "    for i in range(1,N+1):\n",
    "        s=s-(1-p)^i/i\n",
    "    return(s)"
   ]
  },
  {
   "cell_type": "code",
   "execution_count": 10,
   "metadata": {},
   "outputs": [],
   "source": [
    "def polyH(N,r,d1,d2):\n",
    "    ser=serieH(d1,d2,N,r)\n",
    "    d=gcd(d1,d2)\n",
    "    pol=d*(1/(ZZ(d1).factorial()))*(1/(ZZ(d2).factorial()))*((S((S(ser).derivative(x1,ZZ(d1))).derivative(x2,ZZ(d2)))).constant_coefficient())\n",
    "    return(pol)"
   ]
  },
  {
   "cell_type": "code",
   "execution_count": 11,
   "metadata": {},
   "outputs": [],
   "source": [
    "def KacPolA(d1,d2,r):\n",
    "    N=d1+d2\n",
    "    d=gcd(d1,d2)\n",
    "    A=0\n",
    "    div=d.divisors()\n",
    "    for i in div:\n",
    "        A=A+moebius(i)*(polyH(N,r,ZZ(d1/i),ZZ(d2/i))(q^i))\n",
    "    A=A*((q-1)/d)\n",
    "    return(A)"
   ]
  },
  {
   "cell_type": "code",
   "execution_count": 12,
   "metadata": {},
   "outputs": [],
   "source": [
    "d1=1"
   ]
  },
  {
   "cell_type": "code",
   "execution_count": 13,
   "metadata": {},
   "outputs": [],
   "source": [
    "d2=2"
   ]
  },
  {
   "cell_type": "code",
   "execution_count": 14,
   "metadata": {},
   "outputs": [],
   "source": [
    "A=KacPolA(d1,d2,200)"
   ]
  },
  {
   "cell_type": "code",
   "execution_count": 15,
   "metadata": {},
   "outputs": [
    {
     "data": {
      "text/plain": [
       "q^396 + q^395 + 2*q^394 + 2*q^393 + 3*q^392 + 3*q^391 + 4*q^390 + 4*q^389 + 5*q^388 + 5*q^387 + 6*q^386 + 6*q^385 + 7*q^384 + 7*q^383 + 8*q^382 + 8*q^381 + 9*q^380 + 9*q^379 + 10*q^378 + 10*q^377 + 11*q^376 + 11*q^375 + 12*q^374 + 12*q^373 + 13*q^372 + 13*q^371 + 14*q^370 + 14*q^369 + 15*q^368 + 15*q^367 + 16*q^366 + 16*q^365 + 17*q^364 + 17*q^363 + 18*q^362 + 18*q^361 + 19*q^360 + 19*q^359 + 20*q^358 + 20*q^357 + 21*q^356 + 21*q^355 + 22*q^354 + 22*q^353 + 23*q^352 + 23*q^351 + 24*q^350 + 24*q^349 + 25*q^348 + 25*q^347 + 26*q^346 + 26*q^345 + 27*q^344 + 27*q^343 + 28*q^342 + 28*q^341 + 29*q^340 + 29*q^339 + 30*q^338 + 30*q^337 + 31*q^336 + 31*q^335 + 32*q^334 + 32*q^333 + 33*q^332 + 33*q^331 + 34*q^330 + 34*q^329 + 35*q^328 + 35*q^327 + 36*q^326 + 36*q^325 + 37*q^324 + 37*q^323 + 38*q^322 + 38*q^321 + 39*q^320 + 39*q^319 + 40*q^318 + 40*q^317 + 41*q^316 + 41*q^315 + 42*q^314 + 42*q^313 + 43*q^312 + 43*q^311 + 44*q^310 + 44*q^309 + 45*q^308 + 45*q^307 + 46*q^306 + 46*q^305 + 47*q^304 + 47*q^303 + 48*q^302 + 48*q^301 + 49*q^300 + 49*q^299 + 50*q^298 + 50*q^297 + 51*q^296 + 51*q^295 + 52*q^294 + 52*q^293 + 53*q^292 + 53*q^291 + 54*q^290 + 54*q^289 + 55*q^288 + 55*q^287 + 56*q^286 + 56*q^285 + 57*q^284 + 57*q^283 + 58*q^282 + 58*q^281 + 59*q^280 + 59*q^279 + 60*q^278 + 60*q^277 + 61*q^276 + 61*q^275 + 62*q^274 + 62*q^273 + 63*q^272 + 63*q^271 + 64*q^270 + 64*q^269 + 65*q^268 + 65*q^267 + 66*q^266 + 66*q^265 + 67*q^264 + 67*q^263 + 68*q^262 + 68*q^261 + 69*q^260 + 69*q^259 + 70*q^258 + 70*q^257 + 71*q^256 + 71*q^255 + 72*q^254 + 72*q^253 + 73*q^252 + 73*q^251 + 74*q^250 + 74*q^249 + 75*q^248 + 75*q^247 + 76*q^246 + 76*q^245 + 77*q^244 + 77*q^243 + 78*q^242 + 78*q^241 + 79*q^240 + 79*q^239 + 80*q^238 + 80*q^237 + 81*q^236 + 81*q^235 + 82*q^234 + 82*q^233 + 83*q^232 + 83*q^231 + 84*q^230 + 84*q^229 + 85*q^228 + 85*q^227 + 86*q^226 + 86*q^225 + 87*q^224 + 87*q^223 + 88*q^222 + 88*q^221 + 89*q^220 + 89*q^219 + 90*q^218 + 90*q^217 + 91*q^216 + 91*q^215 + 92*q^214 + 92*q^213 + 93*q^212 + 93*q^211 + 94*q^210 + 94*q^209 + 95*q^208 + 95*q^207 + 96*q^206 + 96*q^205 + 97*q^204 + 97*q^203 + 98*q^202 + 98*q^201 + 99*q^200 + 99*q^199 + 100*q^198 + 99*q^197 + 99*q^196 + 98*q^195 + 98*q^194 + 97*q^193 + 97*q^192 + 96*q^191 + 96*q^190 + 95*q^189 + 95*q^188 + 94*q^187 + 94*q^186 + 93*q^185 + 93*q^184 + 92*q^183 + 92*q^182 + 91*q^181 + 91*q^180 + 90*q^179 + 90*q^178 + 89*q^177 + 89*q^176 + 88*q^175 + 88*q^174 + 87*q^173 + 87*q^172 + 86*q^171 + 86*q^170 + 85*q^169 + 85*q^168 + 84*q^167 + 84*q^166 + 83*q^165 + 83*q^164 + 82*q^163 + 82*q^162 + 81*q^161 + 81*q^160 + 80*q^159 + 80*q^158 + 79*q^157 + 79*q^156 + 78*q^155 + 78*q^154 + 77*q^153 + 77*q^152 + 76*q^151 + 76*q^150 + 75*q^149 + 75*q^148 + 74*q^147 + 74*q^146 + 73*q^145 + 73*q^144 + 72*q^143 + 72*q^142 + 71*q^141 + 71*q^140 + 70*q^139 + 70*q^138 + 69*q^137 + 69*q^136 + 68*q^135 + 68*q^134 + 67*q^133 + 67*q^132 + 66*q^131 + 66*q^130 + 65*q^129 + 65*q^128 + 64*q^127 + 64*q^126 + 63*q^125 + 63*q^124 + 62*q^123 + 62*q^122 + 61*q^121 + 61*q^120 + 60*q^119 + 60*q^118 + 59*q^117 + 59*q^116 + 58*q^115 + 58*q^114 + 57*q^113 + 57*q^112 + 56*q^111 + 56*q^110 + 55*q^109 + 55*q^108 + 54*q^107 + 54*q^106 + 53*q^105 + 53*q^104 + 52*q^103 + 52*q^102 + 51*q^101 + 51*q^100 + 50*q^99 + 50*q^98 + 49*q^97 + 49*q^96 + 48*q^95 + 48*q^94 + 47*q^93 + 47*q^92 + 46*q^91 + 46*q^90 + 45*q^89 + 45*q^88 + 44*q^87 + 44*q^86 + 43*q^85 + 43*q^84 + 42*q^83 + 42*q^82 + 41*q^81 + 41*q^80 + 40*q^79 + 40*q^78 + 39*q^77 + 39*q^76 + 38*q^75 + 38*q^74 + 37*q^73 + 37*q^72 + 36*q^71 + 36*q^70 + 35*q^69 + 35*q^68 + 34*q^67 + 34*q^66 + 33*q^65 + 33*q^64 + 32*q^63 + 32*q^62 + 31*q^61 + 31*q^60 + 30*q^59 + 30*q^58 + 29*q^57 + 29*q^56 + 28*q^55 + 28*q^54 + 27*q^53 + 27*q^52 + 26*q^51 + 26*q^50 + 25*q^49 + 25*q^48 + 24*q^47 + 24*q^46 + 23*q^45 + 23*q^44 + 22*q^43 + 22*q^42 + 21*q^41 + 21*q^40 + 20*q^39 + 20*q^38 + 19*q^37 + 19*q^36 + 18*q^35 + 18*q^34 + 17*q^33 + 17*q^32 + 16*q^31 + 16*q^30 + 15*q^29 + 15*q^28 + 14*q^27 + 14*q^26 + 13*q^25 + 13*q^24 + 12*q^23 + 12*q^22 + 11*q^21 + 11*q^20 + 10*q^19 + 10*q^18 + 9*q^17 + 9*q^16 + 8*q^15 + 8*q^14 + 7*q^13 + 7*q^12 + 6*q^11 + 6*q^10 + 5*q^9 + 5*q^8 + 4*q^7 + 4*q^6 + 3*q^5 + 3*q^4 + 2*q^3 + 2*q^2 + q + 1"
      ]
     },
     "execution_count": 15,
     "metadata": {},
     "output_type": "execute_result"
    }
   ],
   "source": [
    "A"
   ]
  },
  {
   "cell_type": "code",
   "execution_count": 16,
   "metadata": {},
   "outputs": [
    {
     "ename": "NameError",
     "evalue": "name 'listdegree' is not defined",
     "output_type": "error",
     "traceback": [
      "\u001b[0;31m---------------------------------------------------------------------------\u001b[0m",
      "\u001b[0;31mNameError\u001b[0m                                 Traceback (most recent call last)",
      "\u001b[0;32m<ipython-input-16-cf31a71f7d1a>\u001b[0m in \u001b[0;36m<module>\u001b[0;34m()\u001b[0m\n\u001b[1;32m      5\u001b[0m \u001b[0ma\u001b[0m\u001b[0;34m=\u001b[0m\u001b[0mmax\u001b[0m\u001b[0;34m(\u001b[0m\u001b[0ml\u001b[0m\u001b[0;34m)\u001b[0m\u001b[0;34m\u001b[0m\u001b[0m\n\u001b[1;32m      6\u001b[0m \u001b[0mll\u001b[0m\u001b[0;34m=\u001b[0m\u001b[0;34m[\u001b[0m\u001b[0;34m(\u001b[0m\u001b[0mInteger\u001b[0m\u001b[0;34m(\u001b[0m\u001b[0;36m1\u001b[0m\u001b[0;34m)\u001b[0m\u001b[0;34m/\u001b[0m\u001b[0ma\u001b[0m\u001b[0;34m)\u001b[0m\u001b[0;34m*\u001b[0m\u001b[0mx\u001b[0m \u001b[0;32mfor\u001b[0m \u001b[0mx\u001b[0m \u001b[0;32min\u001b[0m \u001b[0ml\u001b[0m\u001b[0;34m]\u001b[0m\u001b[0;34m\u001b[0m\u001b[0m\n\u001b[0;32m----> 7\u001b[0;31m \u001b[0mggg\u001b[0m\u001b[0;34m=\u001b[0m\u001b[0mlist_plot\u001b[0m\u001b[0;34m(\u001b[0m\u001b[0mlist\u001b[0m\u001b[0;34m(\u001b[0m\u001b[0mzip\u001b[0m\u001b[0;34m(\u001b[0m\u001b[0mlistdegree\u001b[0m\u001b[0;34m(\u001b[0m\u001b[0mdeg\u001b[0m\u001b[0;34m)\u001b[0m\u001b[0;34m,\u001b[0m\u001b[0mll\u001b[0m\u001b[0;34m)\u001b[0m\u001b[0;34m)\u001b[0m\u001b[0;34m)\u001b[0m\u001b[0;34m\u001b[0m\u001b[0m\n\u001b[0m",
      "\u001b[0;31mNameError\u001b[0m: name 'listdegree' is not defined"
     ]
    }
   ],
   "source": [
    "r=15\n",
    "A=R(KacPolA(3,2,r))\n",
    "deg=A.degree()\n",
    "l=A.list()\n",
    "a=max(l)\n",
    "ll=[(1/a)*x for x in l]\n",
    "ggg=list_plot(list(zip(listdegree(deg),ll)))"
   ]
  },
  {
   "cell_type": "code",
   "execution_count": null,
   "metadata": {},
   "outputs": [],
   "source": []
  }
 ],
 "metadata": {
  "kernelspec": {
   "display_name": "SageMath 8.9",
   "language": "sage",
   "name": "sagemath"
  },
  "language_info": {
   "codemirror_mode": {
    "name": "ipython",
    "version": 2
   },
   "file_extension": ".py",
   "mimetype": "text/x-python",
   "name": "python",
   "nbconvert_exporter": "python",
   "pygments_lexer": "ipython2",
   "version": "2.7.15"
  }
 },
 "nbformat": 4,
 "nbformat_minor": 2
}
