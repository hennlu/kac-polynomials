{
 "cells": [
  {
   "cell_type": "markdown",
   "metadata": {},
   "source": [
    "Computation of the Kac polynomials for the tennis-racket quiver with g loops, r arrows between the two vertices in dimension $(d_1,d_2)$"
   ]
  },
  {
   "cell_type": "markdown",
   "metadata": {},
   "source": [
    "Author: Lucien Hennecart"
   ]
  },
  {
   "cell_type": "markdown",
   "metadata": {},
   "source": [
    "Rings and variables"
   ]
  },
  {
   "cell_type": "code",
   "execution_count": 1,
   "metadata": {},
   "outputs": [],
   "source": [
    "R.<q> = PolynomialRing(QQ)\n",
    "K = R.fraction_field()\n",
    "iq = ~q\n",
    "S.<x1,x2> = LazyPowerSeriesRing(K)"
   ]
  },
  {
   "cell_type": "markdown",
   "metadata": {},
   "source": [
    "Basic functions"
   ]
  },
  {
   "cell_type": "code",
   "execution_count": 2,
   "metadata": {},
   "outputs": [],
   "source": [
    "def produitbilin(l1, l2):\n",
    "    l1c = Partition(l1).conjugate()\n",
    "    l2c = Partition(l2).conjugate()\n",
    "    return ZZ.sum(a * b for a, b in zip(l1c, l2c))\n",
    "\n",
    "def phi(r):\n",
    "    return R.prod(1 - q**(-i) for i in range(1, r + 1))\n",
    "\n",
    "def b(l):\n",
    "    lc = Partition(l).conjugate() + [0]\n",
    "    return ZZ.prod(phi(lc[i] - lc[i + 1]) for i in range(len(lc) - 1))"
   ]
  },
  {
   "cell_type": "markdown",
   "metadata": {},
   "source": [
    "Tools"
   ]
  },
  {
   "cell_type": "code",
   "execution_count": 3,
   "metadata": {},
   "outputs": [],
   "source": [
    "def dessine(poly):\n",
    "    \"\"\"\n",
    "    draw a polynomial\n",
    "    \"\"\"\n",
    "    coeffs = list(poly)\n",
    "    maxi = max(coeffs)\n",
    "    values = [v / maxi for v in coeffs]\n",
    "    return list_plot(values)"
   ]
  },
  {
   "cell_type": "markdown",
   "metadata": {},
   "source": [
    "Computation using power series"
   ]
  },
  {
   "cell_type": "code",
   "execution_count": 17,
   "metadata": {},
   "outputs": [],
   "source": [
    "def polynomeP(r, g):\n",
    "    return S(lambda n: K.sum(q**(r * produitbilin(p1, p2) + g * produitbilin(p2, p2))\n",
    "        * iq**(produitbilin(p1, p1) + produitbilin(p2, p2)) / (b(p1) * b(p2)) * x1**i * x2**(n - i)\n",
    "         for i in range(n + 1) for p1 in Partitions(i) for p2 in Partitions(n - i)))\n",
    "\n",
    "def serieH(r, g):\n",
    "    return polynomeP(r, g).log()\n",
    "\n",
    "def polyH(r, g, d1, d2):\n",
    "    ser = serieH(r, g)\n",
    "    d = ZZ(d1).gcd(d2)\n",
    "    return d * ser[d1 + d2][d1, d2]\n",
    "\n",
    "def KacPolA(d1, d2, r, g):\n",
    "    d1 = ZZ(d1)\n",
    "    d2 = ZZ(d2)\n",
    "    d = d1.gcd(d2)\n",
    "    A = R.sum(moebius(i) * polyH(r, g, d1 // i, d2 // i)(q**i) for i in d.divisors())\n",
    "    return A * ((q - 1) / d)"
   ]
  },
  {
   "cell_type": "markdown",
   "metadata": {},
   "source": [
    "Example 1"
   ]
  },
  {
   "cell_type": "code",
   "execution_count": 18,
   "metadata": {},
   "outputs": [
    {
     "data": {
      "text/plain": [
       "q^51 + q^50 + 3*q^49 + 5*q^48 + 8*q^47 + 12*q^46 + 19*q^45 + 25*q^44 + 36*q^43 + 48*q^42 + 62*q^41 + 79*q^40 + 100*q^39 + 120*q^38 + 146*q^37 + 173*q^36 + 201*q^35 + 232*q^34 + 266*q^33 + 297*q^32 + 333*q^31 + 369*q^30 + 403*q^29 + 440*q^28 + 478*q^27 + 512*q^26 + 550*q^25 + 588*q^24 + 622*q^23 + 660*q^22 + 695*q^21 + 724*q^20 + 749*q^19 + 767*q^18 + 768*q^17 + 762*q^16 + 740*q^15 + 704*q^14 + 658*q^13 + 605*q^12 + 538*q^11 + 472*q^10 + 401*q^9 + 326*q^8 + 254*q^7 + 185*q^6 + 121*q^5 + 72*q^4 + 37*q^3 + 15*q^2 + 5*q + 1"
      ]
     },
     "execution_count": 18,
     "metadata": {},
     "output_type": "execute_result"
    }
   ],
   "source": [
    "d1 = 3\n",
    "d2 = 3\n",
    "r = 4\n",
    "g = 5\n",
    "KacPolA(d1, d2, r, g) * q**(-1-d2*(g-1))"
   ]
  },
  {
   "cell_type": "markdown",
   "metadata": {},
   "source": [
    "Example 2"
   ]
  },
  {
   "cell_type": "code",
   "execution_count": 19,
   "metadata": {},
   "outputs": [
    {
     "data": {
      "text/plain": [
       "q^33 + q^32 + 3*q^31 + 5*q^30 + 8*q^29 + 12*q^28 + 19*q^27 + 25*q^26 + 36*q^25 + 48*q^24 + 62*q^23 + 79*q^22 + 100*q^21 + 120*q^20 + 146*q^19 + 173*q^18 + 201*q^17 + 232*q^16 + 263*q^15 + 289*q^14 + 312*q^13 + 328*q^12 + 329*q^11 + 322*q^10 + 300*q^9 + 264*q^8 + 218*q^7 + 168*q^6 + 113*q^5 + 70*q^4 + 36*q^3 + 15*q^2 + 5*q + 1"
      ]
     },
     "execution_count": 19,
     "metadata": {},
     "output_type": "execute_result"
    }
   ],
   "source": [
    "d1 = 3\n",
    "d2 = 3\n",
    "g = 2\n",
    "r = 4\n",
    "A = R(KacPolA(d1,d2,r,g)*q^(-1-d2*(g-1))); A"
   ]
  },
  {
   "cell_type": "code",
   "execution_count": 20,
   "metadata": {},
   "outputs": [
    {
     "data": {
      "image/png": "[encoded data removed]",
      "text/plain": [
       "Graphics object consisting of 1 graphics primitive"
      ]
     },
     "execution_count": 20,
     "metadata": {},
     "output_type": "execute_result"
    }
   ],
   "source": [
    "dessine(A)"
   ]
  },
  {
   "cell_type": "code",
   "execution_count": 60,
   "metadata": {},
   "outputs": [],
   "source": [
    "L=[KacPolA(2, 3, i, 2)(1) for i in range(11)]"
   ]
  },
  {
   "cell_type": "code",
   "execution_count": 61,
   "metadata": {},
   "outputs": [],
   "source": [
    "F=QQ['x']"
   ]
  },
  {
   "cell_type": "code",
   "execution_count": 62,
   "metadata": {},
   "outputs": [
    {
     "data": {
      "text/plain": [
       "x * (x^3 + 26/3*x^2 + 25/2*x - 25/6)"
      ]
     },
     "execution_count": 62,
     "metadata": {},
     "output_type": "execute_result"
    }
   ],
   "source": [
    "F.lagrange_polynomial(enumerate(L)).factor()"
   ]
  },
  {
   "cell_type": "code",
   "execution_count": 63,
   "metadata": {},
   "outputs": [
    {
     "data": {
      "text/plain": [
       "[0, 18, 127, 415, 994, 2000, 3593, 5957, 9300, 13854, 19875]"
      ]
     },
     "execution_count": 63,
     "metadata": {},
     "output_type": "execute_result"
    }
   ],
   "source": [
    "L"
   ]
  },
  {
   "cell_type": "code",
   "execution_count": 64,
   "metadata": {},
   "outputs": [
    {
     "data": {
      "text/plain": []
     },
     "execution_count": 64,
     "metadata": {},
     "output_type": "execute_result"
    }
   ],
   "source": [
    "oeis(_)"
   ]
  },
  {
   "cell_type": "code",
   "execution_count": null,
   "metadata": {},
   "outputs": [],
   "source": []
  }
 ],
 "metadata": {
  "kernelspec": {
   "display_name": "SageMath 10.4.beta5",
   "language": "sage",
   "name": "sagemath"
  },
  "language_info": {
   "codemirror_mode": {
    "name": "ipython",
    "version": 3
   },
   "file_extension": ".py",
   "mimetype": "text/x-python",
   "name": "python",
   "nbconvert_exporter": "python",
   "pygments_lexer": "ipython3",
   "version": "3.10.12"
  }
 },
 "nbformat": 4,
 "nbformat_minor": 4
}
