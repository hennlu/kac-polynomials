{
 "cells": [
  {
   "cell_type": "code",
   "execution_count": 1,
   "metadata": {},
   "outputs": [],
   "source": [
    "#computation of the Kac polynomials for the tennis-racket quiver with g loops, r arrows between the two vertices in dimension (d_1,d_2)"
   ]
  },
  {
   "cell_type": "code",
   "execution_count": 2,
   "metadata": {},
   "outputs": [],
   "source": [
    "R.<q>=PolynomialRing(QQ)\n",
    "K=FractionField(R)\n",
    "S.<x1,x2>=PowerSeriesRing(K)\n",
    "\n",
    "def produitbilin(l1,l2):\n",
    "    r=0\n",
    "    l1c=Partition(l1).conjugate()\n",
    "    l2c=Partition(l2).conjugate()\n",
    "    l=min(len(l2c),len(l1c))\n",
    "    for i in range(l):\n",
    "        r=r+l1c[i]*l2c[i]\n",
    "    return(r)\n",
    "\n",
    "def phi(r):\n",
    "    p=1\n",
    "    for i in range(1,r+1):\n",
    "        p=p*(1-q^(-i))\n",
    "    return(p)\n",
    "\n",
    "def b(l):\n",
    "    lc=Partition(l).conjugate()+[0]\n",
    "    r=1\n",
    "    for i in range(len(lc)-1):\n",
    "        r=r*phi(lc[i]-lc[i+1])\n",
    "    return(r)\n",
    "\n",
    "def polynomeP(d1,d2,r,g):\n",
    "    P=S(0)\n",
    "    for i in range(d1+1):\n",
    "        for j in range(d2+1):\n",
    "            for p1 in Partitions(i).list():\n",
    "                for p2 in Partitions(j).list():\n",
    "                    P=P+((q^(r*produitbilin(p1,p2)+g*produitbilin(p2,p2)))/(q^(produitbilin(p1,p1)+produitbilin(p2,p2))*b(p1)*b(p2)))*(x1^i)*(x2^j)\n",
    "    return(P)\n",
    "\n",
    "def serieH(d1,d2,N,r,g):\n",
    "    s=0\n",
    "    p=polynomeP(d1,d2,r,g)\n",
    "    for i in range(1,N+1):\n",
    "        s=s-(1-p)^i/i\n",
    "    return(s)\n",
    "\n",
    "def polyH(N,r,g,d1,d2):\n",
    "    ser=serieH(d1,d2,N,r,g)\n",
    "    d=gcd(d1,d2)\n",
    "    pol=d*(1/(ZZ(d1).factorial()))*(1/(ZZ(d2).factorial()))*(\n",
    "        (S((S(ser).derivative(x1,ZZ(d1))).derivative(x2,ZZ(d2)))).constant_coefficient())\n",
    "    return(pol)\n",
    "\n",
    "def KacPolA(d1,d2,r,g):\n",
    "    N=d1+d2\n",
    "    d=gcd(d1,d2)\n",
    "    A=0\n",
    "    div=d.divisors()\n",
    "    for i in div:\n",
    "        A=A+moebius(i)*(polyH(N,r,g,ZZ(d1/i),ZZ(d2/i))(q^i))\n",
    "    A=A*((q-1)/d)\n",
    "    return(A)"
   ]
  },
  {
   "cell_type": "code",
   "execution_count": 3,
   "metadata": {},
   "outputs": [
    {
     "data": {
      "text/plain": [
       "q^51 + q^50 + 3*q^49 + 5*q^48 + 8*q^47 + 12*q^46 + 19*q^45 + 25*q^44 + 36*q^43 + 48*q^42 + 62*q^41 + 79*q^40 + 100*q^39 + 120*q^38 + 146*q^37 + 173*q^36 + 201*q^35 + 232*q^34 + 266*q^33 + 297*q^32 + 333*q^31 + 369*q^30 + 403*q^29 + 440*q^28 + 478*q^27 + 512*q^26 + 550*q^25 + 588*q^24 + 622*q^23 + 660*q^22 + 695*q^21 + 724*q^20 + 749*q^19 + 767*q^18 + 768*q^17 + 762*q^16 + 740*q^15 + 704*q^14 + 658*q^13 + 605*q^12 + 538*q^11 + 472*q^10 + 401*q^9 + 326*q^8 + 254*q^7 + 185*q^6 + 121*q^5 + 72*q^4 + 37*q^3 + 15*q^2 + 5*q + 1"
      ]
     },
     "execution_count": 3,
     "metadata": {},
     "output_type": "execute_result"
    }
   ],
   "source": [
    "d1=3\n",
    "d2=3\n",
    "r=4\n",
    "g=5\n",
    "KacPolA(d1,d2,r,g)*q^(-1-d2*(g-1))"
   ]
  },
  {
   "cell_type": "code",
   "execution_count": 4,
   "metadata": {},
   "outputs": [],
   "source": [
    "def listdegree(d): #creates a list with the numbers i/d, i=0...d.\n",
    "    u=[]\n",
    "    for i in range(0,d+1):\n",
    "        u=u+[i/d]\n",
    "    return u"
   ]
  },
  {
   "cell_type": "code",
   "execution_count": 8,
   "metadata": {},
   "outputs": [],
   "source": [
    "d1=3\n",
    "d2=3\n",
    "g=2\n",
    "r=4\n",
    "A=R(KacPolA(d1,d2,r,g)*q^(-1-d2*(g-1)))\n",
    "deg=A.degree()\n",
    "l=A.list()\n",
    "a=max(l)\n",
    "ll=[(1/a)*x for x in l]\n",
    "g=list_plot(list(zip(listdegree(deg),ll)))"
   ]
  },
  {
   "cell_type": "code",
   "execution_count": 9,
   "metadata": {},
   "outputs": [
    {
     "data": {
      "image/png": "[encoded data removed]",
      "text/plain": [
       "Graphics object consisting of 1 graphics primitive"
      ]
     },
     "execution_count": 9,
     "metadata": {},
     "output_type": "execute_result"
    }
   ],
   "source": [
    "g"
   ]
  },
  {
   "cell_type": "code",
   "execution_count": null,
   "metadata": {},
   "outputs": [],
   "source": []
  }
 ],
 "metadata": {
  "kernelspec": {
   "display_name": "SageMath 8.9",
   "language": "sage",
   "name": "sagemath"
  },
  "language_info": {
   "codemirror_mode": {
    "name": "ipython",
    "version": 2
   },
   "file_extension": ".py",
   "mimetype": "text/x-python",
   "name": "python",
   "nbconvert_exporter": "python",
   "pygments_lexer": "ipython2",
   "version": "2.7.15"
  }
 },
 "nbformat": 4,
 "nbformat_minor": 2
}
