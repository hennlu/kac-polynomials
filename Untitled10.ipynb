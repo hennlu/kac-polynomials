{
 "cells": [
  {
   "cell_type": "code",
   "execution_count": 1,
   "metadata": {},
   "outputs": [],
   "source": [
    "#computation of the Kac polynomials for multi-loop quivers with g loops in dimension d_1"
   ]
  },
  {
   "cell_type": "code",
   "execution_count": 6,
   "metadata": {},
   "outputs": [],
   "source": [
    "R.<q>=PolynomialRing(QQ)\n",
    "K=FractionField(R)\n",
    "S.<x1,x2>=PowerSeriesRing(K)\n",
    "\n",
    "def produitbilin(l1,l2):  #bilinear pairing of partitions\n",
    "    r=0\n",
    "    l1c=Partition(l1).conjugate()\n",
    "    l2c=Partition(l2).conjugate()\n",
    "    l=min(len(l2c),len(l1c))\n",
    "    for i in range(l):\n",
    "        r=r+l1c[i]*l2c[i]\n",
    "    return(r)\n",
    "\n",
    "def phi(r): #polynomials in q^{-1}\n",
    "    p=1\n",
    "    for i in range(1,r+1):\n",
    "        p=p*(1-q^(-i))\n",
    "    return(p)\n",
    "\n",
    "def b(l):\n",
    "    lc=Partition(l).conjugate()+[0]\n",
    "    r=1\n",
    "    for i in range(len(lc)-1):\n",
    "        r=r*phi(lc[i]-lc[i+1])\n",
    "    return(r)\n",
    "\n",
    "def polynomePS(d1,g):\n",
    "    P=S(0)\n",
    "    for i in range(d1+1):\n",
    "        for p1 in Partitions(i).list():\n",
    "            P=P+((q^(g*produitbilin(p1,p1)))/(q^(produitbilin(p1,p1))*b(p1)))*(x1^i)\n",
    "    return(P)\n",
    "\n",
    "def serieHS(d1,N,g):\n",
    "    s=0\n",
    "    p=polynomePS(d1,g)\n",
    "    for i in range(1,N+1):\n",
    "        s=s-(1-p)^i/i\n",
    "    return(s)\n",
    "\n",
    "def polyHS(N,g,d1):\n",
    "    ser=serieHS(d1,N,g)\n",
    "    d=d1\n",
    "    pol=d*(1/(ZZ(d1).factorial()))*((S((S(ser).derivative(x1,ZZ(d1))))).constant_coefficient())\n",
    "    return(pol)\n",
    "\n",
    "def KacPolAS(d1,g):\n",
    "    N=d1\n",
    "    d=d1\n",
    "    A=0\n",
    "    div=d.divisors()\n",
    "    for i in div:\n",
    "        A=A+moebius(i)*(polyHS(N,g,ZZ(d1/i))(q^i))\n",
    "    A=A*((q-1)/d)\n",
    "    return(A)"
   ]
  },
  {
   "cell_type": "code",
   "execution_count": 9,
   "metadata": {},
   "outputs": [
    {
     "name": "stdout",
     "output_type": "stream",
     "text": [
      "q\n",
      "q^26 + q^24 + q^23 + 2*q^22 + 2*q^21 + 3*q^20 + 3*q^19 + 5*q^18 + 5*q^17 + 7*q^16 + 7*q^15 + 9*q^14 + 9*q^13 + 10*q^12 + 9*q^11 + 8*q^10 + 6*q^9 + 4*q^8 + 2*q^7 + q^6\n",
      "q^51 + q^49 + q^48 + 2*q^47 + 2*q^46 + 3*q^45 + 3*q^44 + 5*q^43 + 5*q^42 + 7*q^41 + 7*q^40 + 10*q^39 + 10*q^38 + 13*q^37 + 14*q^36 + 17*q^35 + 18*q^34 + 22*q^33 + 23*q^32 + 27*q^31 + 28*q^30 + 32*q^29 + 33*q^28 + 37*q^27 + 38*q^26 + 40*q^25 + 40*q^24 + 41*q^23 + 39*q^22 + 38*q^21 + 34*q^20 + 31*q^19 + 26*q^18 + 21*q^17 + 16*q^16 + 11*q^15 + 7*q^14 + 4*q^13 + 2*q^12 + q^11\n",
      "q^76 + q^74 + q^73 + 2*q^72 + 2*q^71 + 3*q^70 + 3*q^69 + 5*q^68 + 5*q^67 + 7*q^66 + 7*q^65 + 10*q^64 + 10*q^63 + 13*q^62 + 14*q^61 + 17*q^60 + 18*q^59 + 22*q^58 + 23*q^57 + 28*q^56 + 29*q^55 + 34*q^54 + 36*q^53 + 42*q^52 + 44*q^51 + 50*q^50 + 53*q^49 + 59*q^48 + 62*q^47 + 69*q^46 + 71*q^45 + 78*q^44 + 81*q^43 + 87*q^42 + 90*q^41 + 96*q^40 + 98*q^39 + 103*q^38 + 104*q^37 + 107*q^36 + 106*q^35 + 107*q^34 + 104*q^33 + 102*q^32 + 97*q^31 + 92*q^30 + 85*q^29 + 78*q^28 + 69*q^27 + 60*q^26 + 50*q^25 + 41*q^24 + 32*q^23 + 24*q^22 + 17*q^21 + 11*q^20 + 7*q^19 + 4*q^18 + 2*q^17 + q^16\n"
     ]
    }
   ],
   "source": [
    "for g in range(1,5): print(KacPolAS(5,g)) #an example"
   ]
  },
  {
   "cell_type": "code",
   "execution_count": 10,
   "metadata": {},
   "outputs": [],
   "source": [
    "def listdegree(d): #creates a list with the numbers i/d, i=0...d.\n",
    "    u=[]\n",
    "    for i in range(0,d+1):\n",
    "        u=u+[i/d]\n",
    "    return u"
   ]
  },
  {
   "cell_type": "code",
   "execution_count": 17,
   "metadata": {},
   "outputs": [],
   "source": [
    "d=5\n",
    "g=2\n",
    "A=R(KacPolAS(d,g)*q^(-1-d*(g-1)))\n",
    "deg=A.degree()\n",
    "l=A.list()\n",
    "a=max(l)\n",
    "ll=[(1/a)*x for x in l]\n",
    "g=list_plot(list(zip(listdegree(deg),ll)))"
   ]
  },
  {
   "cell_type": "code",
   "execution_count": 18,
   "metadata": {},
   "outputs": [
    {
     "data": {
      "image/png": "[encoded data removed]",
      "text/plain": [
       "Graphics object consisting of 1 graphics primitive"
      ]
     },
     "execution_count": 18,
     "metadata": {},
     "output_type": "execute_result"
    }
   ],
   "source": [
    "g"
   ]
  },
  {
   "cell_type": "code",
   "execution_count": null,
   "metadata": {},
   "outputs": [],
   "source": []
  }
 ],
 "metadata": {
  "kernelspec": {
   "display_name": "SageMath 8.9",
   "language": "sage",
   "name": "sagemath"
  },
  "language_info": {
   "codemirror_mode": {
    "name": "ipython",
    "version": 2
   },
   "file_extension": ".py",
   "mimetype": "text/x-python",
   "name": "python",
   "nbconvert_exporter": "python",
   "pygments_lexer": "ipython2",
   "version": "2.7.15"
  }
 },
 "nbformat": 4,
 "nbformat_minor": 2
}
